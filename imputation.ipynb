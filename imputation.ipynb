{
 "cells": [
  {
   "cell_type": "code",
   "execution_count": 1,
   "metadata": {},
   "outputs": [],
   "source": [
    "%matplotlib inline\n",
    "import random\n",
    "\n",
    "import numpy as np\n",
    "import matplotlib.pyplot as plt\n",
    "import scipy\n",
    "import scipy.io\n",
    "from scipy import sparse\n",
    "import uncurl\n",
    "\n",
    "from deep_uncurl_pytorch import UncurlNet"
   ]
  },
  {
   "cell_type": "code",
   "execution_count": 3,
   "metadata": {},
   "outputs": [],
   "source": [
    "data_z = scipy.io.loadmat('data/GSE60361_dat.mat')\n",
    "data_10x = scipy.io.loadmat('data/10x_pooled_400.mat')"
   ]
  },
  {
   "cell_type": "code",
   "execution_count": 4,
   "metadata": {},
   "outputs": [],
   "source": [
    "data_z_mat = data_z['Dat']\n",
    "genes_z = uncurl.max_variance_genes(data_z_mat, 1, 0.2)\n",
    "data_z_mat = data_z_mat[genes_z, :]"
   ]
  },
  {
   "cell_type": "code",
   "execution_count": 5,
   "metadata": {},
   "outputs": [],
   "source": [
    "data_10x_mat = data_10x['data']\n",
    "genes_10x = uncurl.max_variance_genes(data_10x_mat, 1, 0.2)\n",
    "data_10x_mat = data_10x_mat[genes_10x, :]"
   ]
  },
  {
   "cell_type": "code",
   "execution_count": 6,
   "metadata": {},
   "outputs": [],
   "source": [
    "p_impute = 0.2"
   ]
  },
  {
   "cell_type": "code",
   "execution_count": 7,
   "metadata": {},
   "outputs": [],
   "source": [
    "data_z_mat = sparse.coo_matrix(data_z_mat)\n",
    "data_10x_mat = sparse.coo_matrix(data_10x_mat)\n",
    "\n",
    "\n",
    "indices_z = random.sample(range(len(data_z_mat.data)), int(p_impute*len(data_z_mat.data)))\n",
    "indices_10x = random.sample(range(len(data_10x_mat.data)), int(p_impute*len(data_10x_mat.data)))\n",
    "\n",
    "# save deleted data for comparison\n",
    "true_values_z = data_z_mat.data[indices_z]\n",
    "sampled_rows_z = data_z_mat.row[indices_z]\n",
    "sampled_cols_z = data_z_mat.col[indices_z]\n",
    "\n",
    "true_values_10x = data_10x_mat.data[indices_10x]\n",
    "sampled_rows_10x = data_10x_mat.row[indices_10x]\n",
    "sampled_cols_10x = data_10x_mat.col[indices_10x]\n",
    "\n",
    "# do the data deletion\n",
    "data_z_mat.data[indices_z] = 0\n",
    "data_z_mat.eliminate_zeros()\n",
    "data_z_mat = sparse.csc_matrix(data_z_mat)\n",
    "\n",
    "data_10x_mat.data[indices_10x] = 0\n",
    "data_10x_mat.eliminate_zeros()\n",
    "data_10x_mat = sparse.csc_matrix(data_10x_mat)"
   ]
  },
  {
   "cell_type": "code",
   "execution_count": 8,
   "metadata": {},
   "outputs": [
    {
     "name": "stdout",
     "output_type": "stream",
     "text": [
      "CPU times: user 4min 9s, sys: 3.44 s, total: 4min 13s\n",
      "Wall time: 1min 10s\n"
     ]
    }
   ],
   "source": [
    "k_z = 7\n",
    "%time M_z, W_z, ll = uncurl.poisson_estimate_state(data_z_mat, k_z, threads=4, disp=False)"
   ]
  },
  {
   "cell_type": "code",
   "execution_count": 15,
   "metadata": {},
   "outputs": [
    {
     "ename": "TypeError",
     "evalue": "get_w() missing 1 required positional argument: 'data'",
     "output_type": "error",
     "traceback": [
      "\u001b[0;31m---------------------------------------------------------------------------\u001b[0m",
      "\u001b[0;31mTypeError\u001b[0m                                 Traceback (most recent call last)",
      "\u001b[0;32m<ipython-input-15-afbc3d51d3a6>\u001b[0m in \u001b[0;36m<module>\u001b[0;34m()\u001b[0m\n\u001b[1;32m      2\u001b[0m \u001b[0munet_z\u001b[0m\u001b[0;34m.\u001b[0m\u001b[0mtrain_1\u001b[0m\u001b[0;34m(\u001b[0m\u001b[0mdisp\u001b[0m\u001b[0;34m=\u001b[0m\u001b[0;32mFalse\u001b[0m\u001b[0;34m)\u001b[0m\u001b[0;34m\u001b[0m\u001b[0m\n\u001b[1;32m      3\u001b[0m \u001b[0mm_z\u001b[0m \u001b[0;34m=\u001b[0m \u001b[0munet_z\u001b[0m\u001b[0;34m.\u001b[0m\u001b[0mget_m\u001b[0m\u001b[0;34m(\u001b[0m\u001b[0;34m)\u001b[0m\u001b[0;34m\u001b[0m\u001b[0m\n\u001b[0;32m----> 4\u001b[0;31m \u001b[0mw_z\u001b[0m \u001b[0;34m=\u001b[0m \u001b[0munet_z\u001b[0m\u001b[0;34m.\u001b[0m\u001b[0mget_w\u001b[0m\u001b[0;34m(\u001b[0m\u001b[0;34m)\u001b[0m\u001b[0;34m\u001b[0m\u001b[0m\n\u001b[0m\u001b[1;32m      5\u001b[0m \u001b[0mm_z\u001b[0m \u001b[0;34m=\u001b[0m \u001b[0mm_z\u001b[0m\u001b[0;34m.\u001b[0m\u001b[0mnumpy\u001b[0m\u001b[0;34m(\u001b[0m\u001b[0;34m)\u001b[0m\u001b[0;34m\u001b[0m\u001b[0m\n\u001b[1;32m      6\u001b[0m \u001b[0mw_z\u001b[0m \u001b[0;34m=\u001b[0m \u001b[0mw_z\u001b[0m\u001b[0;34m.\u001b[0m\u001b[0mnumpy\u001b[0m\u001b[0;34m(\u001b[0m\u001b[0;34m)\u001b[0m\u001b[0;34m.\u001b[0m\u001b[0mT\u001b[0m\u001b[0;34m\u001b[0m\u001b[0m\n",
      "\u001b[0;31mTypeError\u001b[0m: get_w() missing 1 required positional argument: 'data'"
     ]
    }
   ],
   "source": [
    "unet_z = UncurlNet(data_z_mat.toarray().astype(np.float32), k=k_z)\n",
    "unet_z.train_1(disp=False)\n"
   ]
  },
  {
   "cell_type": "code",
   "execution_count": 16,
   "metadata": {},
   "outputs": [],
   "source": [
    "m_z = unet_z.get_m()\n",
    "w_z = unet_z.get_w(data_z_mat.toarray().astype(np.float32))\n",
    "m_z = m_z.numpy()\n",
    "w_z = w_z.numpy().T"
   ]
  },
  {
   "cell_type": "code",
   "execution_count": 9,
   "metadata": {},
   "outputs": [
    {
     "name": "stdout",
     "output_type": "stream",
     "text": [
      "CPU times: user 47 s, sys: 704 ms, total: 47.7 s\n",
      "Wall time: 12.7 s\n"
     ]
    }
   ],
   "source": [
    "k_10x = 8\n",
    "%time M_10x, W_10x, ll = uncurl.poisson_estimate_state(data_10x_mat, k_10x, threads=4, disp=False)"
   ]
  },
  {
   "cell_type": "code",
   "execution_count": 17,
   "metadata": {},
   "outputs": [],
   "source": [
    "unet_10x = UncurlNet(data_10x_mat.toarray().astype(np.float32), k=k_10x)\n",
    "unet_10x.train_1(disp=False)\n",
    "m_10x = unet_10x.get_m()\n",
    "w_10x = unet_10x.get_w(data_10x_mat.toarray().astype(np.float32))\n",
    "m_10x = m_10x.numpy()\n",
    "w_10x = w_10x.numpy().T"
   ]
  },
  {
   "cell_type": "code",
   "execution_count": 18,
   "metadata": {},
   "outputs": [],
   "source": [
    "def calculate_imputation_error(sampled_rows, sampled_cols, indices, true_values, new_matrix):\n",
    "    \"\"\"\n",
    "    Returns imputed values, rmse, correlation, spearman.\n",
    "    \"\"\"\n",
    "    imputed_values = []\n",
    "    for i in range(len(indices)):\n",
    "        imputed_value = new_matrix[sampled_rows[i], sampled_cols[i]]\n",
    "        imputed_values.append(imputed_value)\n",
    "    imputed_values = np.array(imputed_values)\n",
    "    rmse = np.sqrt(np.mean(((imputed_values - true_values)/true_values)**2))\n",
    "    print('rmse:', rmse)\n",
    "\n",
    "    correlation = np.corrcoef(imputed_values, true_values)[0,1]\n",
    "    print('correlation:', correlation)\n",
    "\n",
    "    spearman = scipy.stats.spearmanr(imputed_values, true_values).correlation\n",
    "    print('spearman:', spearman)\n",
    "    return imputed_values, rmse, correlation, spearman"
   ]
  },
  {
   "cell_type": "code",
   "execution_count": 27,
   "metadata": {},
   "outputs": [],
   "source": [
    "results_table = {'method':[], 'dataset':[], 'corr':[]}"
   ]
  },
  {
   "cell_type": "code",
   "execution_count": 28,
   "metadata": {},
   "outputs": [
    {
     "name": "stdout",
     "output_type": "stream",
     "text": [
      "\n",
      "Results for 10x imputation with UNCURLNet:\n",
      "rmse: 0.9143118179121967\n",
      "correlation: 0.6464558531248458\n",
      "spearman: 0.5983676788995775\n",
      "\n",
      "Results for Zeisel imputation with UNCURLNet:\n",
      "rmse: 1.4717269\n",
      "correlation: 0.45729659945814516\n",
      "spearman: 0.31750024845578534\n",
      "Results for 10x imputation with UNCURL:\n",
      "rmse: 0.8070996201558734\n",
      "correlation: 0.854251068814795\n",
      "spearman: 0.666518284162681\n",
      "\n",
      "Results for Zeisel imputation with UNCURL:\n",
      "rmse: 0.8911490131430545\n",
      "correlation: 0.766681008226945\n",
      "spearman: 0.5820049824590103\n"
     ]
    }
   ],
   "source": [
    "\n",
    "\n",
    "print()\n",
    "print('Results for 10x imputation with UNCURLNet:')\n",
    "MW = m_10x.dot(w_10x)\n",
    "imputed_vals, rmse, corr, sp = calculate_imputation_error(sampled_rows_10x,\n",
    "                                               sampled_cols_10x,\n",
    "                                               indices_10x,\n",
    "                                               true_values_10x, MW)\n",
    "results_table['method'].append('uncurl_net')\n",
    "results_table['dataset'].append('10x')\n",
    "results_table['corr'].append(corr)\n",
    "\n",
    "print()\n",
    "print('Results for Zeisel imputation with UNCURLNet:')\n",
    "MW = m_z.dot(w_z)\n",
    "imputed_vals, rmse, corr, sp = calculate_imputation_error(sampled_rows_z,\n",
    "                                               sampled_cols_z,\n",
    "                                               indices_z,\n",
    "                                               true_values_z, MW)\n",
    "results_table['method'].append('uncurl_net')\n",
    "results_table['dataset'].append('Zeisel')\n",
    "results_table['corr'].append(corr)\n",
    "\n",
    "print('Results for 10x imputation with UNCURL:')\n",
    "MW = M_10x.dot(W_10x)\n",
    "imputed_vals, rmse, corr, sp = calculate_imputation_error(sampled_rows_10x,\n",
    "                                               sampled_cols_10x,\n",
    "                                               indices_10x,\n",
    "                                               true_values_10x, MW)\n",
    "results_table['method'].append('uncurl')\n",
    "results_table['dataset'].append('10x')\n",
    "results_table['corr'].append(corr)\n",
    "\n",
    "print()\n",
    "print('Results for Zeisel imputation with UNCURL:')\n",
    "MW = M_z.dot(W_z)\n",
    "imputed_vals, rmse, corr, sp = calculate_imputation_error(sampled_rows_z,\n",
    "                                               sampled_cols_z,\n",
    "                                               indices_z,\n",
    "                                               true_values_z, MW)\n",
    "results_table['method'].append('uncurl')\n",
    "results_table['dataset'].append('Zeisel')\n",
    "results_table['corr'].append(corr)"
   ]
  },
  {
   "cell_type": "code",
   "execution_count": 32,
   "metadata": {},
   "outputs": [],
   "source": [
    "import seaborn as sns\n",
    "import pandas as pd\n",
    "sns.set()"
   ]
  },
  {
   "cell_type": "code",
   "execution_count": 33,
   "metadata": {},
   "outputs": [],
   "source": [
    "results_table = pd.DataFrame(results_table)"
   ]
  },
  {
   "cell_type": "code",
   "execution_count": 34,
   "metadata": {},
   "outputs": [
    {
     "data": {
      "image/png": "[encoded data removed]",
      "text/plain": [
       "<matplotlib.figure.Figure at 0x7fe83ef5c978>"
      ]
     },
     "metadata": {},
     "output_type": "display_data"
    }
   ],
   "source": [
    "plt.figure(figsize=(16,9))\n",
    "sns.barplot(x='dataset', y='corr', hue='method', data=results_table)\n",
    "plt.savefig('imputation_corr_plots.png')"
   ]
  },
  {
   "cell_type": "code",
   "execution_count": null,
   "metadata": {},
   "outputs": [],
   "source": []
  }
 ],
 "metadata": {
  "kernelspec": {
   "display_name": "Python 3",
   "language": "python",
   "name": "python3"
  },
  "language_info": {
   "codemirror_mode": {
    "name": "ipython",
    "version": 3
   },
   "file_extension": ".py",
   "mimetype": "text/x-python",
   "name": "python",
   "nbconvert_exporter": "python",
   "pygments_lexer": "ipython3",
   "version": "3.5.2"
  }
 },
 "nbformat": 4,
 "nbformat_minor": 2
}
