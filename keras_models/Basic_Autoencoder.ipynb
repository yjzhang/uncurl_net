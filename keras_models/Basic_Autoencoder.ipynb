{
 "cells": [
  {
   "cell_type": "code",
   "execution_count": 65,
   "metadata": {},
   "outputs": [
    {
     "name": "stdout",
     "output_type": "stream",
     "text": [
      "unable to import ensemble methods.\n"
     ]
    }
   ],
   "source": [
    "from keras.layers import Input, Dense\n",
    "from keras.models import Model\n",
    "import scipy.io\n",
    "import numpy as np\n",
    "import matplotlib.pyplot as plt\n",
    "import uncurl\n"
   ]
  },
  {
   "cell_type": "code",
   "execution_count": 8,
   "metadata": {},
   "outputs": [],
   "source": [
    "mat = scipy.io.loadmat('../data/10x_pooled_400.mat')"
   ]
  },
  {
   "cell_type": "code",
   "execution_count": 73,
   "metadata": {},
   "outputs": [
    {
     "name": "stdout",
     "output_type": "stream",
     "text": [
      "(400, 2747)\n"
     ]
    }
   ],
   "source": [
    "dat = np.log10(1 + mat['data'].toarray().astype(np.float32))\n",
    "genes = uncurl.max_variance_genes(dat, nbins=5, frac=0.2)\n",
    "dat = dat[genes,:]\n",
    "dat = dat.transpose()\n",
    "(c,g) = dat.shape\n",
    "print dat.shape"
   ]
  },
  {
   "cell_type": "code",
   "execution_count": 77,
   "metadata": {},
   "outputs": [],
   "source": [
    "encoding_dim = 2\n",
    "input_img = Input(shape=(g,))\n",
    "# \"encoded\" is the encoded representation of the input\n",
    "encoded = Dense(encoding_dim, activation='relu')(input_img)\n",
    "# \"decoded\" is the lossy reconstruction of the input\n",
    "decoded = Dense(g, activation='sigmoid')(encoded)\n",
    "\n",
    "# this model maps an input to its reconstruction\n",
    "autoencoder = Model(input_img, decoded)\n",
    "\n",
    "# this model maps an input to its encoded representation\n",
    "encoder = Model(input_img, encoded)\n",
    "\n",
    "# create a placeholder for an encoded (32-dimensional) input\n",
    "encoded_input = Input(shape=(encoding_dim,))\n",
    "# retrieve the last layer of the autoencoder model\n",
    "decoder_layer = autoencoder.layers[-1]\n",
    "# create the decoder model\n",
    "decoder = Model(encoded_input, decoder_layer(encoded_input))"
   ]
  },
  {
   "cell_type": "code",
   "execution_count": 78,
   "metadata": {},
   "outputs": [],
   "source": [
    "autoencoder.compile(optimizer='adadelta', loss='mean_squared_error')"
   ]
  },
  {
   "cell_type": "code",
   "execution_count": 79,
   "metadata": {},
   "outputs": [
    {
     "name": "stdout",
     "output_type": "stream",
     "text": [
      "Train on 400 samples, validate on 400 samples\n",
      "Epoch 1/50\n",
      "400/400 [==============================] - 0s 745us/step - loss: 0.2317 - val_loss: 0.2316\n",
      "Epoch 2/50\n",
      "400/400 [==============================] - 0s 125us/step - loss: 0.2316 - val_loss: 0.2315\n",
      "Epoch 3/50\n",
      "400/400 [==============================] - 0s 121us/step - loss: 0.2315 - val_loss: 0.2315\n",
      "Epoch 4/50\n",
      "400/400 [==============================] - 0s 120us/step - loss: 0.2314 - val_loss: 0.2314\n",
      "Epoch 5/50\n",
      "400/400 [==============================] - 0s 118us/step - loss: 0.2314 - val_loss: 0.2313\n",
      "Epoch 6/50\n",
      "400/400 [==============================] - 0s 134us/step - loss: 0.2313 - val_loss: 0.2312\n",
      "Epoch 7/50\n",
      "400/400 [==============================] - 0s 122us/step - loss: 0.2312 - val_loss: 0.2311\n",
      "Epoch 8/50\n",
      "400/400 [==============================] - 0s 111us/step - loss: 0.2311 - val_loss: 0.2311\n",
      "Epoch 9/50\n",
      "400/400 [==============================] - 0s 117us/step - loss: 0.2310 - val_loss: 0.2310\n",
      "Epoch 10/50\n",
      "400/400 [==============================] - 0s 120us/step - loss: 0.2310 - val_loss: 0.2309\n",
      "Epoch 11/50\n",
      "400/400 [==============================] - 0s 116us/step - loss: 0.2309 - val_loss: 0.2308\n",
      "Epoch 12/50\n",
      "400/400 [==============================] - 0s 119us/step - loss: 0.2308 - val_loss: 0.2308\n",
      "Epoch 13/50\n",
      "400/400 [==============================] - 0s 135us/step - loss: 0.2307 - val_loss: 0.2307\n",
      "Epoch 14/50\n",
      "400/400 [==============================] - 0s 121us/step - loss: 0.2306 - val_loss: 0.2306\n",
      "Epoch 15/50\n",
      "400/400 [==============================] - 0s 118us/step - loss: 0.2306 - val_loss: 0.2305\n",
      "Epoch 16/50\n",
      "400/400 [==============================] - 0s 120us/step - loss: 0.2305 - val_loss: 0.2304\n",
      "Epoch 17/50\n",
      "400/400 [==============================] - 0s 114us/step - loss: 0.2304 - val_loss: 0.2304\n",
      "Epoch 18/50\n",
      "400/400 [==============================] - 0s 115us/step - loss: 0.2303 - val_loss: 0.2303\n",
      "Epoch 19/50\n",
      "400/400 [==============================] - 0s 119us/step - loss: 0.2303 - val_loss: 0.2302\n",
      "Epoch 20/50\n",
      "400/400 [==============================] - 0s 115us/step - loss: 0.2302 - val_loss: 0.2301\n",
      "Epoch 21/50\n",
      "400/400 [==============================] - 0s 120us/step - loss: 0.2301 - val_loss: 0.2300\n",
      "Epoch 22/50\n",
      "400/400 [==============================] - 0s 125us/step - loss: 0.2300 - val_loss: 0.2300\n",
      "Epoch 23/50\n",
      "400/400 [==============================] - 0s 123us/step - loss: 0.2299 - val_loss: 0.2299\n",
      "Epoch 24/50\n",
      "400/400 [==============================] - 0s 115us/step - loss: 0.2299 - val_loss: 0.2298\n",
      "Epoch 25/50\n",
      "400/400 [==============================] - 0s 133us/step - loss: 0.2298 - val_loss: 0.2297\n",
      "Epoch 26/50\n",
      "400/400 [==============================] - 0s 158us/step - loss: 0.2297 - val_loss: 0.2297\n",
      "Epoch 27/50\n",
      "400/400 [==============================] - 0s 136us/step - loss: 0.2296 - val_loss: 0.2296\n",
      "Epoch 28/50\n",
      "400/400 [==============================] - 0s 107us/step - loss: 0.2295 - val_loss: 0.2295\n",
      "Epoch 29/50\n",
      "400/400 [==============================] - 0s 112us/step - loss: 0.2295 - val_loss: 0.2294\n",
      "Epoch 30/50\n",
      "400/400 [==============================] - 0s 152us/step - loss: 0.2294 - val_loss: 0.2293\n",
      "Epoch 31/50\n",
      "400/400 [==============================] - 0s 127us/step - loss: 0.2293 - val_loss: 0.2293\n",
      "Epoch 32/50\n",
      "400/400 [==============================] - 0s 137us/step - loss: 0.2292 - val_loss: 0.2292\n",
      "Epoch 33/50\n",
      "400/400 [==============================] - 0s 149us/step - loss: 0.2291 - val_loss: 0.2291\n",
      "Epoch 34/50\n",
      "400/400 [==============================] - 0s 171us/step - loss: 0.2291 - val_loss: 0.2290\n",
      "Epoch 35/50\n",
      "400/400 [==============================] - 0s 153us/step - loss: 0.2290 - val_loss: 0.2289\n",
      "Epoch 36/50\n",
      "400/400 [==============================] - 0s 140us/step - loss: 0.2289 - val_loss: 0.2288\n",
      "Epoch 37/50\n",
      "400/400 [==============================] - 0s 132us/step - loss: 0.2288 - val_loss: 0.2287\n",
      "Epoch 38/50\n",
      "400/400 [==============================] - 0s 134us/step - loss: 0.2287 - val_loss: 0.2286\n",
      "Epoch 39/50\n",
      "400/400 [==============================] - 0s 124us/step - loss: 0.2285 - val_loss: 0.2285\n",
      "Epoch 40/50\n",
      "400/400 [==============================] - 0s 124us/step - loss: 0.2284 - val_loss: 0.2283\n",
      "Epoch 41/50\n",
      "400/400 [==============================] - 0s 131us/step - loss: 0.2283 - val_loss: 0.2282\n",
      "Epoch 42/50\n",
      "400/400 [==============================] - 0s 136us/step - loss: 0.2281 - val_loss: 0.2280\n",
      "Epoch 43/50\n",
      "400/400 [==============================] - 0s 146us/step - loss: 0.2279 - val_loss: 0.2277\n",
      "Epoch 44/50\n",
      "400/400 [==============================] - 0s 138us/step - loss: 0.2276 - val_loss: 0.2275\n",
      "Epoch 45/50\n",
      "400/400 [==============================] - 0s 154us/step - loss: 0.2273 - val_loss: 0.2271\n",
      "Epoch 46/50\n",
      "400/400 [==============================] - 0s 155us/step - loss: 0.2269 - val_loss: 0.2267\n",
      "Epoch 47/50\n",
      "400/400 [==============================] - 0s 167us/step - loss: 0.2265 - val_loss: 0.2261\n",
      "Epoch 48/50\n",
      "400/400 [==============================] - 0s 128us/step - loss: 0.2258 - val_loss: 0.2253\n",
      "Epoch 49/50\n",
      "400/400 [==============================] - 0s 123us/step - loss: 0.2250 - val_loss: 0.2244\n",
      "Epoch 50/50\n",
      "400/400 [==============================] - 0s 131us/step - loss: 0.2239 - val_loss: 0.2231\n"
     ]
    },
    {
     "data": {
      "text/plain": [
       "<keras.callbacks.History at 0x1828656050>"
      ]
     },
     "execution_count": 79,
     "metadata": {},
     "output_type": "execute_result"
    }
   ],
   "source": [
    "autoencoder.fit(dat, dat,\n",
    "                epochs=50,\n",
    "                batch_size=100,\n",
    "                shuffle=True,\n",
    "                validation_data=(dat, dat))"
   ]
  },
  {
   "cell_type": "code",
   "execution_count": 80,
   "metadata": {},
   "outputs": [],
   "source": [
    "encoded_imgs = encoder.predict(dat)"
   ]
  },
  {
   "cell_type": "code",
   "execution_count": 81,
   "metadata": {},
   "outputs": [
    {
     "data": {
      "text/plain": [
       "<matplotlib.collections.PathCollection at 0x182112a150>"
      ]
     },
     "execution_count": 81,
     "metadata": {},
     "output_type": "execute_result"
    },
    {
     "data": {
      "image/png": "[encoded data removed]",
      "text/plain": [
       "<Figure size 432x288 with 1 Axes>"
      ]
     },
     "metadata": {},
     "output_type": "display_data"
    }
   ],
   "source": [
    "plt.scatter(encoded_imgs[:,0],encoded_imgs[:,1], c = mat['labels'][0])"
   ]
  },
  {
   "cell_type": "code",
   "execution_count": null,
   "metadata": {},
   "outputs": [],
   "source": []
  },
  {
   "cell_type": "code",
   "execution_count": 64,
   "metadata": {},
   "outputs": [
    {
     "data": {
      "text/plain": [
       "19848"
      ]
     },
     "execution_count": 64,
     "metadata": {},
     "output_type": "execute_result"
    }
   ],
   "source": [
    "g"
   ]
  },
  {
   "cell_type": "code",
   "execution_count": null,
   "metadata": {},
   "outputs": [],
   "source": []
  }
 ],
 "metadata": {
  "kernelspec": {
   "display_name": "Python 2",
   "language": "python",
   "name": "python2"
  },
  "language_info": {
   "codemirror_mode": {
    "name": "ipython",
    "version": 2
   },
   "file_extension": ".py",
   "mimetype": "text/x-python",
   "name": "python",
   "nbconvert_exporter": "python",
   "pygments_lexer": "ipython2",
   "version": "2.7.14"
  }
 },
 "nbformat": 4,
 "nbformat_minor": 2
}
